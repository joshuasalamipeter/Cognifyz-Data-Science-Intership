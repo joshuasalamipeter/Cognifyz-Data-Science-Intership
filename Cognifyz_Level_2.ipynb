{
 "cells": [
  {
   "cell_type": "markdown",
   "id": "bda8671b-2313-462b-9362-4461deacd369",
   "metadata": {},
   "source": [
    "# <center> <h3> <span>Cognifyz Intership Program</span> </h3></center>\n",
    "# <center> <h3> <span>Restaurant Data Analysis</span> </h3></center>"
   ]
  },
  {
   "cell_type": "markdown",
   "id": "337c69e0-97ed-486f-8aff-504ea59fcc6a",
   "metadata": {},
   "source": [
    "# Author: Joshua Salami Peter\n",
    "\n",
    "## Data Science Internship Program\n",
    "### Date: November 2024"
   ]
  },
  {
   "cell_type": "markdown",
   "id": "f1fda79d-a94e-4368-8a79-48ef17f9514e",
   "metadata": {},
   "source": [
    "# Level 2"
   ]
  },
  {
   "cell_type": "code",
   "execution_count": 13,
   "id": "8a7ca546-1b45-417c-817f-5fd043b0aafa",
   "metadata": {},
   "outputs": [],
   "source": [
    "# import libraries \n",
    "\n",
    "import numpy as np\n",
    "import pandas as pd\n",
    "import matplotlib.pyplot as plt\n",
    "import seaborn as sns\n",
    "\n",
    "%matplotlib inline"
   ]
  },
  {
   "cell_type": "code",
   "execution_count": 15,
   "id": "fa005664-7991-447e-86ae-0d0fef21f8df",
   "metadata": {},
   "outputs": [
    {
     "data": {
      "text/html": [
       "<div>\n",
       "<style scoped>\n",
       "    .dataframe tbody tr th:only-of-type {\n",
       "        vertical-align: middle;\n",
       "    }\n",
       "\n",
       "    .dataframe tbody tr th {\n",
       "        vertical-align: top;\n",
       "    }\n",
       "\n",
       "    .dataframe thead th {\n",
       "        text-align: right;\n",
       "    }\n",
       "</style>\n",
       "<table border=\"1\" class=\"dataframe\">\n",
       "  <thead>\n",
       "    <tr style=\"text-align: right;\">\n",
       "      <th></th>\n",
       "      <th>Restaurant ID</th>\n",
       "      <th>Restaurant Name</th>\n",
       "      <th>Country Code</th>\n",
       "      <th>City</th>\n",
       "      <th>Address</th>\n",
       "      <th>Locality</th>\n",
       "      <th>Locality Verbose</th>\n",
       "      <th>Longitude</th>\n",
       "      <th>Latitude</th>\n",
       "      <th>Cuisines</th>\n",
       "      <th>...</th>\n",
       "      <th>Currency</th>\n",
       "      <th>Has Table booking</th>\n",
       "      <th>Has Online delivery</th>\n",
       "      <th>Is delivering now</th>\n",
       "      <th>Switch to order menu</th>\n",
       "      <th>Price range</th>\n",
       "      <th>Aggregate rating</th>\n",
       "      <th>Rating color</th>\n",
       "      <th>Rating text</th>\n",
       "      <th>Votes</th>\n",
       "    </tr>\n",
       "  </thead>\n",
       "  <tbody>\n",
       "    <tr>\n",
       "      <th>0</th>\n",
       "      <td>6317637</td>\n",
       "      <td>Le Petit Souffle</td>\n",
       "      <td>162</td>\n",
       "      <td>Makati City</td>\n",
       "      <td>Third Floor, Century City Mall, Kalayaan Avenu...</td>\n",
       "      <td>Century City Mall, Poblacion, Makati City</td>\n",
       "      <td>Century City Mall, Poblacion, Makati City, Mak...</td>\n",
       "      <td>121.027535</td>\n",
       "      <td>14.565443</td>\n",
       "      <td>French, Japanese, Desserts</td>\n",
       "      <td>...</td>\n",
       "      <td>Botswana Pula(P)</td>\n",
       "      <td>True</td>\n",
       "      <td>False</td>\n",
       "      <td>False</td>\n",
       "      <td>False</td>\n",
       "      <td>3</td>\n",
       "      <td>4.8</td>\n",
       "      <td>Dark Green</td>\n",
       "      <td>Excellent</td>\n",
       "      <td>314</td>\n",
       "    </tr>\n",
       "    <tr>\n",
       "      <th>1</th>\n",
       "      <td>6304287</td>\n",
       "      <td>Izakaya Kikufuji</td>\n",
       "      <td>162</td>\n",
       "      <td>Makati City</td>\n",
       "      <td>Little Tokyo, 2277 Chino Roces Avenue, Legaspi...</td>\n",
       "      <td>Little Tokyo, Legaspi Village, Makati City</td>\n",
       "      <td>Little Tokyo, Legaspi Village, Makati City, Ma...</td>\n",
       "      <td>121.014101</td>\n",
       "      <td>14.553708</td>\n",
       "      <td>Japanese</td>\n",
       "      <td>...</td>\n",
       "      <td>Botswana Pula(P)</td>\n",
       "      <td>True</td>\n",
       "      <td>False</td>\n",
       "      <td>False</td>\n",
       "      <td>False</td>\n",
       "      <td>3</td>\n",
       "      <td>4.5</td>\n",
       "      <td>Dark Green</td>\n",
       "      <td>Excellent</td>\n",
       "      <td>591</td>\n",
       "    </tr>\n",
       "    <tr>\n",
       "      <th>2</th>\n",
       "      <td>6300002</td>\n",
       "      <td>Heat - Edsa Shangri-La</td>\n",
       "      <td>162</td>\n",
       "      <td>Mandaluyong City</td>\n",
       "      <td>Edsa Shangri-La, 1 Garden Way, Ortigas, Mandal...</td>\n",
       "      <td>Edsa Shangri-La, Ortigas, Mandaluyong City</td>\n",
       "      <td>Edsa Shangri-La, Ortigas, Mandaluyong City, Ma...</td>\n",
       "      <td>121.056831</td>\n",
       "      <td>14.581404</td>\n",
       "      <td>Seafood, Asian, Filipino, Indian</td>\n",
       "      <td>...</td>\n",
       "      <td>Botswana Pula(P)</td>\n",
       "      <td>True</td>\n",
       "      <td>False</td>\n",
       "      <td>False</td>\n",
       "      <td>False</td>\n",
       "      <td>4</td>\n",
       "      <td>4.4</td>\n",
       "      <td>Green</td>\n",
       "      <td>Very Good</td>\n",
       "      <td>270</td>\n",
       "    </tr>\n",
       "    <tr>\n",
       "      <th>3</th>\n",
       "      <td>6318506</td>\n",
       "      <td>Ooma</td>\n",
       "      <td>162</td>\n",
       "      <td>Mandaluyong City</td>\n",
       "      <td>Third Floor, Mega Fashion Hall, SM Megamall, O...</td>\n",
       "      <td>SM Megamall, Ortigas, Mandaluyong City</td>\n",
       "      <td>SM Megamall, Ortigas, Mandaluyong City, Mandal...</td>\n",
       "      <td>121.056475</td>\n",
       "      <td>14.585318</td>\n",
       "      <td>Japanese, Sushi</td>\n",
       "      <td>...</td>\n",
       "      <td>Botswana Pula(P)</td>\n",
       "      <td>False</td>\n",
       "      <td>False</td>\n",
       "      <td>False</td>\n",
       "      <td>False</td>\n",
       "      <td>4</td>\n",
       "      <td>4.9</td>\n",
       "      <td>Dark Green</td>\n",
       "      <td>Excellent</td>\n",
       "      <td>365</td>\n",
       "    </tr>\n",
       "    <tr>\n",
       "      <th>4</th>\n",
       "      <td>6314302</td>\n",
       "      <td>Sambo Kojin</td>\n",
       "      <td>162</td>\n",
       "      <td>Mandaluyong City</td>\n",
       "      <td>Third Floor, Mega Atrium, SM Megamall, Ortigas...</td>\n",
       "      <td>SM Megamall, Ortigas, Mandaluyong City</td>\n",
       "      <td>SM Megamall, Ortigas, Mandaluyong City, Mandal...</td>\n",
       "      <td>121.057508</td>\n",
       "      <td>14.584450</td>\n",
       "      <td>Japanese, Korean</td>\n",
       "      <td>...</td>\n",
       "      <td>Botswana Pula(P)</td>\n",
       "      <td>True</td>\n",
       "      <td>False</td>\n",
       "      <td>False</td>\n",
       "      <td>False</td>\n",
       "      <td>4</td>\n",
       "      <td>4.8</td>\n",
       "      <td>Dark Green</td>\n",
       "      <td>Excellent</td>\n",
       "      <td>229</td>\n",
       "    </tr>\n",
       "  </tbody>\n",
       "</table>\n",
       "<p>5 rows × 21 columns</p>\n",
       "</div>"
      ],
      "text/plain": [
       "   Restaurant ID         Restaurant Name  Country Code              City  \\\n",
       "0        6317637        Le Petit Souffle           162       Makati City   \n",
       "1        6304287        Izakaya Kikufuji           162       Makati City   \n",
       "2        6300002  Heat - Edsa Shangri-La           162  Mandaluyong City   \n",
       "3        6318506                    Ooma           162  Mandaluyong City   \n",
       "4        6314302             Sambo Kojin           162  Mandaluyong City   \n",
       "\n",
       "                                             Address  \\\n",
       "0  Third Floor, Century City Mall, Kalayaan Avenu...   \n",
       "1  Little Tokyo, 2277 Chino Roces Avenue, Legaspi...   \n",
       "2  Edsa Shangri-La, 1 Garden Way, Ortigas, Mandal...   \n",
       "3  Third Floor, Mega Fashion Hall, SM Megamall, O...   \n",
       "4  Third Floor, Mega Atrium, SM Megamall, Ortigas...   \n",
       "\n",
       "                                     Locality  \\\n",
       "0   Century City Mall, Poblacion, Makati City   \n",
       "1  Little Tokyo, Legaspi Village, Makati City   \n",
       "2  Edsa Shangri-La, Ortigas, Mandaluyong City   \n",
       "3      SM Megamall, Ortigas, Mandaluyong City   \n",
       "4      SM Megamall, Ortigas, Mandaluyong City   \n",
       "\n",
       "                                    Locality Verbose   Longitude   Latitude  \\\n",
       "0  Century City Mall, Poblacion, Makati City, Mak...  121.027535  14.565443   \n",
       "1  Little Tokyo, Legaspi Village, Makati City, Ma...  121.014101  14.553708   \n",
       "2  Edsa Shangri-La, Ortigas, Mandaluyong City, Ma...  121.056831  14.581404   \n",
       "3  SM Megamall, Ortigas, Mandaluyong City, Mandal...  121.056475  14.585318   \n",
       "4  SM Megamall, Ortigas, Mandaluyong City, Mandal...  121.057508  14.584450   \n",
       "\n",
       "                           Cuisines  ...          Currency Has Table booking  \\\n",
       "0        French, Japanese, Desserts  ...  Botswana Pula(P)              True   \n",
       "1                          Japanese  ...  Botswana Pula(P)              True   \n",
       "2  Seafood, Asian, Filipino, Indian  ...  Botswana Pula(P)              True   \n",
       "3                   Japanese, Sushi  ...  Botswana Pula(P)             False   \n",
       "4                  Japanese, Korean  ...  Botswana Pula(P)              True   \n",
       "\n",
       "   Has Online delivery  Is delivering now  Switch to order menu  Price range  \\\n",
       "0                False              False                 False            3   \n",
       "1                False              False                 False            3   \n",
       "2                False              False                 False            4   \n",
       "3                False              False                 False            4   \n",
       "4                False              False                 False            4   \n",
       "\n",
       "   Aggregate rating  Rating color Rating text Votes  \n",
       "0               4.8    Dark Green   Excellent   314  \n",
       "1               4.5    Dark Green   Excellent   591  \n",
       "2               4.4         Green   Very Good   270  \n",
       "3               4.9    Dark Green   Excellent   365  \n",
       "4               4.8    Dark Green   Excellent   229  \n",
       "\n",
       "[5 rows x 21 columns]"
      ]
     },
     "execution_count": 15,
     "metadata": {},
     "output_type": "execute_result"
    }
   ],
   "source": [
    "df = pd.read_csv(\"C:/Users/JSP/Desktop/cleaned_dataset.csv\")\n",
    "df.head()"
   ]
  },
  {
   "cell_type": "markdown",
   "id": "194047fb-8047-468b-9cc6-8593426b7f83",
   "metadata": {},
   "source": [
    "## Task 1: Table Booking and Online Delivery"
   ]
  },
  {
   "cell_type": "markdown",
   "id": "d2aef2f4-1a90-42d6-8257-44374bedae9d",
   "metadata": {},
   "source": [
    "### 1. Determine the percentage of restaurants that offer table booking and online delivery"
   ]
  },
  {
   "cell_type": "code",
   "execution_count": 12,
   "id": "85cce01f-ce81-4f5b-abec-b919bda44f8d",
   "metadata": {},
   "outputs": [
    {
     "name": "stdout",
     "output_type": "stream",
     "text": [
      "Percentage of Restaurants Offering Table Booking:\n",
      "Has Table booking\n",
      "False    87.86\n",
      "True     12.14\n",
      "Name: proportion, dtype: float64\n",
      "\n",
      "Percentage of Restaurants Offering Online Delivery:\n",
      "Has Online delivery\n",
      "False    74.31\n",
      "True     25.69\n",
      "Name: proportion, dtype: float64\n"
     ]
    }
   ],
   "source": [
    "# Calculating the percentage distribution for the 'Has Table booking' column\n",
    "percentage_table_booking = (df['Has Table booking'].value_counts(normalize=True) * 100).round(2)\n",
    "\n",
    "# Calculating the percentage distribution for the 'Has Online delivery' column\n",
    "percentage_online_delivery = (df['Has Online delivery'].value_counts(normalize=True) * 100).round(2)\n",
    "\n",
    "# Printing the percentage of restaurants that offer table booking\n",
    "print(\"Percentage of Restaurants Offering Table Booking:\")\n",
    "print(percentage_table_booking)\n",
    "\n",
    "# Printing the percentage of restaurants that offer online delivery\n",
    "print(\"\\nPercentage of Restaurants Offering Online Delivery:\")\n",
    "print(percentage_online_delivery)"
   ]
  },
  {
   "cell_type": "markdown",
   "id": "b96ee60c-c10e-4fc5-9d36-7af3e5ff4d9b",
   "metadata": {},
   "source": [
    "### 2. Compare the average ratings of restaurants with and without table booking"
   ]
  },
  {
   "cell_type": "code",
   "execution_count": 14,
   "id": "f510d1a3-056d-4839-a1bb-238452fbbf63",
   "metadata": {},
   "outputs": [
    {
     "name": "stdout",
     "output_type": "stream",
     "text": [
      "\n",
      "Average Rating of Restaurants with Table Booking: 36.19\n",
      "Average Rating of Restaurants without Table Booking: 2.56\n"
     ]
    }
   ],
   "source": [
    "# Calculating the average rating for restaurants with table booking\n",
    "average_rating_with_table_booking = df[df['Has Table booking'] == True]['Aggregate rating'].value_counts().mean().round(2)\n",
    "\n",
    "# Calculating the average rating for restaurants without table booking\n",
    "average_rating_without_table_booking = df[df['Has Table booking'] == False]['Aggregate rating'].mean().round(2)\n",
    "\n",
    "# Printing the average ratings comparison\n",
    "print(\"\\nAverage Rating of Restaurants with Table Booking:\", average_rating_with_table_booking)\n",
    "print(\"Average Rating of Restaurants without Table Booking:\", average_rating_without_table_booking)\n"
   ]
  },
  {
   "cell_type": "markdown",
   "id": "da7d6257-626a-43a5-956b-b3a04615743b",
   "metadata": {},
   "source": [
    "### 3. Analyze the availability of online delivery among restaurants with different price ranges"
   ]
  },
  {
   "cell_type": "code",
   "execution_count": 16,
   "id": "3ba86858-93e2-403d-a4f5-e74586daf168",
   "metadata": {},
   "outputs": [
    {
     "name": "stdout",
     "output_type": "stream",
     "text": [
      "\n",
      "Online Delivery Availability by Price Range (%):\n",
      "Price range\n",
      "1    28.60\n",
      "2    52.47\n",
      "3    16.77\n",
      "4     2.16\n",
      "Name: proportion, dtype: float64\n"
     ]
    },
    {
     "data": {
      "text/plain": [
       "<matplotlib.legend.Legend at 0x1a962058aa0>"
      ]
     },
     "execution_count": 16,
     "metadata": {},
     "output_type": "execute_result"
    },
    {
     "data": {
      "image/png": "[encoded data removed]",
      "text/plain": [
       "<Figure size 1000x600 with 1 Axes>"
      ]
     },
     "metadata": {},
     "output_type": "display_data"
    }
   ],
   "source": [
    "# Filtering the dataset for restaurants that offer online delivery and calculating the distribution across price ranges\n",
    "online_delivery_by_price_range = df[df['Has Online delivery'] == True]['Price range'].value_counts(normalize=True).sort_index() * 100\n",
    "online_delivery_by_price_range = online_delivery_by_price_range.round(2)\n",
    "\n",
    "print(\"\\nOnline Delivery Availability by Price Range (%):\")\n",
    "print(online_delivery_by_price_range)\n",
    "\n",
    "# Plotting the availability of online delivery by price range\n",
    "plt.figure(figsize=(10, 6))\n",
    "online_delivery_by_price_range.plot(kind='bar', color='blue')\n",
    "plt.title('Online Delivery Availability by Price Range (%)')\n",
    "plt.xlabel('Price Range')\n",
    "plt.xticks(rotation = 0)\n",
    "plt.ylabel('Percentage of Restaurants')\n",
    "plt.legend(title='Online Delivery', bbox_to_anchor=(1.05, 1), loc='upper left')"
   ]
  },
  {
   "cell_type": "markdown",
   "id": "31bb0cb7-2d6d-4d17-b210-cad5241f97e7",
   "metadata": {},
   "source": [
    "## Conclusion\n",
    "### The analysis reveals several key insights:\n",
    "\n",
    "1. A significant proportion of restaurants offer both table booking and online delivery services, indicating a trend towards enhanced customer convenience.\n",
    " \n",
    "2. Restaurants that offer table booking generally have higher average ratings compared to those that do not, suggesting that table booking could be associated with higher customer satisfaction.\n",
    " \n",
    "3. The availability of online delivery varies across different price ranges, with certain price categories showing greater adoption of this service. This can inform stakeholders about the relationship between service offerings and pricing tiers."
   ]
  },
  {
   "cell_type": "markdown",
   "id": "2ac64f4a-d239-492e-8a22-3f698f8c4618",
   "metadata": {},
   "source": [
    "## Task 2: Price Range Analysis"
   ]
  },
  {
   "cell_type": "markdown",
   "id": "5a445bda-9399-4c68-975f-0c0217c1ac18",
   "metadata": {},
   "source": [
    "### 1. Determine the most common price range among all the restaurants."
   ]
  },
  {
   "cell_type": "code",
   "execution_count": 18,
   "id": "e5204519-076e-4ca4-aee4-f5604b553d49",
   "metadata": {},
   "outputs": [
    {
     "name": "stdout",
     "output_type": "stream",
     "text": [
      "The most common price range is: 1, appearing 4438 times.\n"
     ]
    },
    {
     "data": {
      "text/plain": [
       "(array([0, 1, 2, 3]),\n",
       " [Text(0, 0, '1'), Text(1, 0, '2'), Text(2, 0, '3'), Text(3, 0, '4')])"
      ]
     },
     "execution_count": 18,
     "metadata": {},
     "output_type": "execute_result"
    },
    {
     "data": {
      "image/png": "[encoded data removed]",
      "text/plain": [
       "<Figure size 1000x600 with 1 Axes>"
      ]
     },
     "metadata": {},
     "output_type": "display_data"
    }
   ],
   "source": [
    "# Determine the most common price range\n",
    "most_common_price_range = df['Price range'].value_counts().idxmax()\n",
    "count_most_common_price_range = df['Price range'].value_counts().max()\n",
    "\n",
    "print(f\"The most common price range is: {most_common_price_range}, appearing {count_most_common_price_range} times.\")\n",
    "\n",
    "# Visualize the distribution of price ranges\n",
    "plt.figure(figsize=(10, 6))\n",
    "df['Price range'].value_counts().sort_index().plot(kind='bar', color='green')\n",
    "plt.title('Distribution of Price Ranges Among Restaurants')\n",
    "plt.xlabel('Price Range')\n",
    "plt.ylabel('Number of Restaurants')\n",
    "plt.xticks(rotation=0)"
   ]
  },
  {
   "cell_type": "markdown",
   "id": "24f94399-0c27-44b7-8669-494f30a64e50",
   "metadata": {},
   "source": [
    "### 2. Calculate the average rating for each price range."
   ]
  },
  {
   "cell_type": "code",
   "execution_count": 19,
   "id": "5804c915-4f8b-4092-bc3a-a95b2b8ba9e5",
   "metadata": {},
   "outputs": [
    {
     "name": "stdout",
     "output_type": "stream",
     "text": [
      "Average Rating for Each Price Range:\n",
      "Price range\n",
      "1    2.00\n",
      "2    2.94\n",
      "3    3.68\n",
      "4    3.82\n",
      "Name: Aggregate rating, dtype: float64\n"
     ]
    }
   ],
   "source": [
    "# Calculate the average rating for each price range\n",
    "average_rating_by_price_range = df.groupby('Price range')['Aggregate rating'].mean().round(2)\n",
    "\n",
    "print(\"Average Rating for Each Price Range:\")\n",
    "print(average_rating_by_price_range)"
   ]
  },
  {
   "cell_type": "markdown",
   "id": "3567f7b9-1e6b-40d6-8f8e-5d36431cfe47",
   "metadata": {},
   "source": [
    "### 3. Identify the color that represents the highest average rating among different price ranges."
   ]
  },
  {
   "cell_type": "code",
   "execution_count": 48,
   "id": "a105d5d6-98dc-4522-ad05-369e0699d4c1",
   "metadata": {},
   "outputs": [
    {
     "data": {
      "text/plain": [
       "<BarContainer object of 1 artists>"
      ]
     },
     "execution_count": 48,
     "metadata": {},
     "output_type": "execute_result"
    },
    {
     "data": {
      "image/png": "[encoded data removed]",
      "text/plain": [
       "<Figure size 800x500 with 1 Axes>"
      ]
     },
     "metadata": {},
     "output_type": "display_data"
    }
   ],
   "source": [
    "# Find the price range with the highest average rating\n",
    "highest_rating_price_range = average_rating_by_price_range.idxmax()\n",
    "\n",
    "# Plot the average rating by price range\n",
    "plt.figure(figsize=(8, 5))\n",
    "plt.bar(average_rating_by_price_range.index, average_rating_by_price_range, color='blue', width=0.5)  \n",
    "plt.xlabel('Price Range')\n",
    "plt.ylabel('Average Rating')\n",
    "plt.title('Average Rating by Price Range')\n",
    "\n",
    "# Highlight the highest rating in the plot\n",
    "plt.bar(highest_rating_price_range, average_rating_by_price_range[highest_rating_price_range], color='green', width=0.5)"
   ]
  },
  {
   "cell_type": "markdown",
   "id": "8e923333-d8ab-4cda-8adf-ec7a576fd466",
   "metadata": {},
   "source": [
    "### Conclusion\n",
    "The analysis shows a clear relationship between price range and customer satisfaction. While most restaurants fall within the budget-friendly Price Range 1, these establishments tend to have lower average ratings, which may point to challenges in maintaining service quality or customer satisfaction. Conversely, higher-end restaurants in Price Range 4, although fewer in number, achieve the highest average ratings, suggesting that investing in premium services and quality can lead to better customer reviews and higher satisfaction."
   ]
  },
  {
   "cell_type": "markdown",
   "id": "dba3ac7e-49e6-4668-b618-8b6895edfc44",
   "metadata": {},
   "source": [
    "### These findings highlight opportunities for strategic improvements in service offerings to enhance restaurant competitiveness and customer satisfaction."
   ]
  },
  {
   "cell_type": "markdown",
   "id": "3c7cdf17-5fac-4bd2-8597-229c1df4bcaf",
   "metadata": {},
   "source": [
    "## Task 3: Feature Engineering"
   ]
  },
  {
   "cell_type": "markdown",
   "id": "fc6d8609-c53e-4635-b55b-940d55fa810b",
   "metadata": {},
   "source": [
    "### 1. Extract additional features from the existing columns, such as the length of the restaurant name or address."
   ]
  },
  {
   "cell_type": "code",
   "execution_count": 74,
   "id": "7eab9dd6-1a4b-45c5-91c7-84f506955b49",
   "metadata": {},
   "outputs": [
    {
     "data": {
      "text/html": [
       "<div>\n",
       "<style scoped>\n",
       "    .dataframe tbody tr th:only-of-type {\n",
       "        vertical-align: middle;\n",
       "    }\n",
       "\n",
       "    .dataframe tbody tr th {\n",
       "        vertical-align: top;\n",
       "    }\n",
       "\n",
       "    .dataframe thead th {\n",
       "        text-align: right;\n",
       "    }\n",
       "</style>\n",
       "<table border=\"1\" class=\"dataframe\">\n",
       "  <thead>\n",
       "    <tr style=\"text-align: right;\">\n",
       "      <th></th>\n",
       "      <th>Restaurant Name</th>\n",
       "      <th>Name_Length</th>\n",
       "      <th>Address</th>\n",
       "      <th>Address_Length</th>\n",
       "    </tr>\n",
       "  </thead>\n",
       "  <tbody>\n",
       "    <tr>\n",
       "      <th>0</th>\n",
       "      <td>Le Petit Souffle</td>\n",
       "      <td>16</td>\n",
       "      <td>Third Floor, Century City Mall, Kalayaan Avenu...</td>\n",
       "      <td>71</td>\n",
       "    </tr>\n",
       "    <tr>\n",
       "      <th>1</th>\n",
       "      <td>Izakaya Kikufuji</td>\n",
       "      <td>16</td>\n",
       "      <td>Little Tokyo, 2277 Chino Roces Avenue, Legaspi...</td>\n",
       "      <td>67</td>\n",
       "    </tr>\n",
       "    <tr>\n",
       "      <th>2</th>\n",
       "      <td>Heat - Edsa Shangri-La</td>\n",
       "      <td>22</td>\n",
       "      <td>Edsa Shangri-La, 1 Garden Way, Ortigas, Mandal...</td>\n",
       "      <td>56</td>\n",
       "    </tr>\n",
       "    <tr>\n",
       "      <th>3</th>\n",
       "      <td>Ooma</td>\n",
       "      <td>4</td>\n",
       "      <td>Third Floor, Mega Fashion Hall, SM Megamall, O...</td>\n",
       "      <td>70</td>\n",
       "    </tr>\n",
       "    <tr>\n",
       "      <th>4</th>\n",
       "      <td>Sambo Kojin</td>\n",
       "      <td>11</td>\n",
       "      <td>Third Floor, Mega Atrium, SM Megamall, Ortigas...</td>\n",
       "      <td>64</td>\n",
       "    </tr>\n",
       "  </tbody>\n",
       "</table>\n",
       "</div>"
      ],
      "text/plain": [
       "          Restaurant Name  Name_Length  \\\n",
       "0        Le Petit Souffle           16   \n",
       "1        Izakaya Kikufuji           16   \n",
       "2  Heat - Edsa Shangri-La           22   \n",
       "3                    Ooma            4   \n",
       "4             Sambo Kojin           11   \n",
       "\n",
       "                                             Address  Address_Length  \n",
       "0  Third Floor, Century City Mall, Kalayaan Avenu...              71  \n",
       "1  Little Tokyo, 2277 Chino Roces Avenue, Legaspi...              67  \n",
       "2  Edsa Shangri-La, 1 Garden Way, Ortigas, Mandal...              56  \n",
       "3  Third Floor, Mega Fashion Hall, SM Megamall, O...              70  \n",
       "4  Third Floor, Mega Atrium, SM Megamall, Ortigas...              64  "
      ]
     },
     "execution_count": 74,
     "metadata": {},
     "output_type": "execute_result"
    }
   ],
   "source": [
    "# Extract the length of the restaurant name and address\n",
    "\n",
    "df['Name_Length'] = df['Restaurant Name'].apply(len)\n",
    "df['Address_Length'] = df['Address'].apply(len)\n",
    "\n",
    "# Display the first few rows to check the new columns\n",
    "df[['Restaurant Name', 'Name_Length', 'Address', 'Address_Length']].head()\n"
   ]
  },
  {
   "cell_type": "markdown",
   "id": "68a4c20a-abdf-4e0a-bb24-1482e7b578bf",
   "metadata": {},
   "source": [
    "### 2. Create new features like \"Has Table Booking\" or \"Has Online Delivery\" by encoding categorical variables."
   ]
  },
  {
   "cell_type": "code",
   "execution_count": 97,
   "id": "50a78228-d6e3-4172-b0e5-2e131b8c17d4",
   "metadata": {},
   "outputs": [
    {
     "data": {
      "text/html": [
       "<div>\n",
       "<style scoped>\n",
       "    .dataframe tbody tr th:only-of-type {\n",
       "        vertical-align: middle;\n",
       "    }\n",
       "\n",
       "    .dataframe tbody tr th {\n",
       "        vertical-align: top;\n",
       "    }\n",
       "\n",
       "    .dataframe thead th {\n",
       "        text-align: right;\n",
       "    }\n",
       "</style>\n",
       "<table border=\"1\" class=\"dataframe\">\n",
       "  <thead>\n",
       "    <tr style=\"text-align: right;\">\n",
       "      <th></th>\n",
       "      <th>Has Table booking</th>\n",
       "      <th>Has_Table_Booking</th>\n",
       "      <th>Has Online delivery</th>\n",
       "      <th>Has_Online_Delivery</th>\n",
       "    </tr>\n",
       "  </thead>\n",
       "  <tbody>\n",
       "    <tr>\n",
       "      <th>0</th>\n",
       "      <td>True</td>\n",
       "      <td>1</td>\n",
       "      <td>False</td>\n",
       "      <td>0</td>\n",
       "    </tr>\n",
       "    <tr>\n",
       "      <th>1</th>\n",
       "      <td>True</td>\n",
       "      <td>1</td>\n",
       "      <td>False</td>\n",
       "      <td>0</td>\n",
       "    </tr>\n",
       "    <tr>\n",
       "      <th>2</th>\n",
       "      <td>True</td>\n",
       "      <td>1</td>\n",
       "      <td>False</td>\n",
       "      <td>0</td>\n",
       "    </tr>\n",
       "    <tr>\n",
       "      <th>3</th>\n",
       "      <td>False</td>\n",
       "      <td>0</td>\n",
       "      <td>False</td>\n",
       "      <td>0</td>\n",
       "    </tr>\n",
       "    <tr>\n",
       "      <th>4</th>\n",
       "      <td>True</td>\n",
       "      <td>1</td>\n",
       "      <td>False</td>\n",
       "      <td>0</td>\n",
       "    </tr>\n",
       "  </tbody>\n",
       "</table>\n",
       "</div>"
      ],
      "text/plain": [
       "   Has Table booking  Has_Table_Booking  Has Online delivery  \\\n",
       "0               True                  1                False   \n",
       "1               True                  1                False   \n",
       "2               True                  1                False   \n",
       "3              False                  0                False   \n",
       "4               True                  1                False   \n",
       "\n",
       "   Has_Online_Delivery  \n",
       "0                    0  \n",
       "1                    0  \n",
       "2                    0  \n",
       "3                    0  \n",
       "4                    0  "
      ]
     },
     "execution_count": 97,
     "metadata": {},
     "output_type": "execute_result"
    }
   ],
   "source": [
    "# Create new binary features for 'Has Table Booking' and 'Has Online Delivery'\n",
    "\n",
    "df['Has_Table_Booking'] = df['Has Table booking'].map({True: 1, False: 0})\n",
    "df['Has_Online_Delivery'] = df['Has Online delivery'].map({True: 1, False: 0})\n",
    "\n",
    "# Display the first few rows to check the new features\n",
    "df[['Has Table booking', 'Has_Table_Booking', 'Has Online delivery', 'Has_Online_Delivery']].head()\n"
   ]
  },
  {
   "cell_type": "code",
   "execution_count": 108,
   "id": "3a1235c1-7f30-40a9-a88e-a6e158ca0981",
   "metadata": {},
   "outputs": [],
   "source": [
    "# Save the modified dataset to a new CSV file\n",
    "df.to_csv('C:/Users/JSP/Desktop/cleaned_for_task3_dataset.csv', index=False)"
   ]
  }
 ],
 "metadata": {
  "kernelspec": {
   "display_name": "Python 3 (ipykernel)",
   "language": "python",
   "name": "python3"
  },
  "language_info": {
   "codemirror_mode": {
    "name": "ipython",
    "version": 3
   },
   "file_extension": ".py",
   "mimetype": "text/x-python",
   "name": "python",
   "nbconvert_exporter": "python",
   "pygments_lexer": "ipython3",
   "version": "3.12.4"
  }
 },
 "nbformat": 4,
 "nbformat_minor": 5
}
