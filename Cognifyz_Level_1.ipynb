{
 "cells": [
  {
   "cell_type": "markdown",
   "id": "c5259e38-e110-40ae-a5e7-e7dbec177f52",
   "metadata": {},
   "source": [
    "# <center> <h3> <span>Cognifyz Intership Program</span> </h3></center>\n",
    "# <center> <h3> <span>Restaurant Data Analysis</span> </h3></center>"
   ]
  },
  {
   "cell_type": "markdown",
   "id": "ff54c358-b8c8-4608-b2a6-f5cfcfeb1b2f",
   "metadata": {},
   "source": [
    "# Author: Joshua Salami Peter\n",
    "\n",
    "## Data Science Internship Program\n",
    "### Date: November 2024"
   ]
  },
  {
   "cell_type": "markdown",
   "id": "ea8446f6-5aa0-49ff-97c7-2af722fadccd",
   "metadata": {},
   "source": [
    "# Level 1: Task 1\n",
    "## Data Exploration and Preprocessing"
   ]
  },
  {
   "cell_type": "code",
   "execution_count": null,
   "id": "090b60dd-c4b2-4f9b-8a45-e3cb9909edca",
   "metadata": {},
   "outputs": [],
   "source": [
    "# import libraries \n",
    "\n",
    "import numpy as np\n",
    "import pandas as pd\n",
    "import matplotlib.pyplot as plt\n",
    "import seaborn as sns\n",
    "import plotly.express as px\n",
    "\n",
    "%matplotlib inline"
   ]
  },
  {
   "cell_type": "code",
   "execution_count": null,
   "id": "67f34690-6528-4a80-b674-51e28ff080bf",
   "metadata": {},
   "outputs": [],
   "source": [
    "# import data\n",
    "\n",
    "df = pd.read_csv(\"Dataset .csv\")"
   ]
  },
  {
   "cell_type": "code",
   "execution_count": null,
   "id": "a27e8bf6-1581-4202-9593-3a70ecbd2cba",
   "metadata": {},
   "outputs": [],
   "source": [
    "# the first 5 rows of the DataFrame\n",
    "\n",
    "df.head()"
   ]
  },
  {
   "cell_type": "code",
   "execution_count": null,
   "id": "91ad5d3a-3b21-489e-90d0-067e5015ed2b",
   "metadata": {},
   "outputs": [],
   "source": [
    "# basic information about the DataFrame\n",
    "\n",
    "print(df.info())"
   ]
  },
  {
   "cell_type": "markdown",
   "id": "fdbfc04e-9f77-4a0e-8cfb-dcd1e827b799",
   "metadata": {},
   "source": [
    "1. Explore the dataset and identify the number of rows and columns"
   ]
  },
  {
   "cell_type": "code",
   "execution_count": null,
   "id": "5023eee7-aea1-4305-b375-022f5ffd6b65",
   "metadata": {},
   "outputs": [],
   "source": [
    "# Check the number of rows and columns\n",
    "\n",
    "print(df.shape)"
   ]
  },
  {
   "cell_type": "markdown",
   "id": "9b766ff7-ef52-45b3-9159-44185e6690ba",
   "metadata": {},
   "source": [
    "The dataset contains 9,542 rows and 21 columns, representing detailed information about various restaurants."
   ]
  },
  {
   "cell_type": "markdown",
   "id": "8b82f57d-e083-4817-852f-17fe00280558",
   "metadata": {},
   "source": [
    "2. Check for missing values in each column and handle them accordingly."
   ]
  },
  {
   "cell_type": "code",
   "execution_count": null,
   "id": "fd90f3d3-4663-4697-824a-cf28cf6735f3",
   "metadata": {},
   "outputs": [],
   "source": [
    "# Check for missing values\n",
    "\n",
    "print(df.isnull().sum())"
   ]
  },
  {
   "cell_type": "markdown",
   "id": "ef3b3b87-c1c4-4912-a9bd-da113b72a836",
   "metadata": {},
   "source": [
    "The \"Cuisines\" column is the only column with missing values, with a total of 9 missing entries out of 9,542 rows."
   ]
  },
  {
   "cell_type": "code",
   "execution_count": null,
   "id": "4409cb8f-4443-41bd-9f20-7dcb3a91ee42",
   "metadata": {},
   "outputs": [],
   "source": [
    "# Handle missing values\n",
    "\n",
    "df.dropna(inplace = True)"
   ]
  },
  {
   "cell_type": "markdown",
   "id": "34b16a1b-95b7-44a6-ba85-ddb0d3406ae8",
   "metadata": {},
   "source": [
    "The missing values in the \"Cuisines\" column were handled by dropping the rows to maintain data quality and ensure that analyses involving cuisine types are based on complete data."
   ]
  },
  {
   "cell_type": "code",
   "execution_count": null,
   "id": "6e9641ce-adf0-477f-b584-d704a66c2166",
   "metadata": {},
   "outputs": [],
   "source": [
    "# Checking for confirmation\n",
    "\n",
    "print(df.isnull().sum())"
   ]
  },
  {
   "cell_type": "markdown",
   "id": "c749e44f-0d71-40b8-b1fd-99cfeeb2854b",
   "metadata": {},
   "source": [
    "The dataset is now complete, with all columns containing valid data."
   ]
  },
  {
   "cell_type": "markdown",
   "id": "ea38035d-da81-4f6d-bd1b-c2cc47cc6f0a",
   "metadata": {},
   "source": [
    "3. Perform data type conversion if necessary."
   ]
  },
  {
   "cell_type": "code",
   "execution_count": null,
   "id": "a208530e-b86a-49bb-9f22-2fb1c6fdb6e6",
   "metadata": {},
   "outputs": [],
   "source": [
    "# Check data types\n",
    "\n",
    "print(df.dtypes)"
   ]
  },
  {
   "cell_type": "code",
   "execution_count": null,
   "id": "940d7931-3d01-41b3-a24e-78bff2e51efe",
   "metadata": {},
   "outputs": [],
   "source": [
    "#Data types conversion\n",
    "\n",
    "categorical_columns = ['Restaurant Name', 'City', 'Address', 'Locality', 'Locality Verbose', \n",
    "                       'Cuisines', 'Currency', 'Rating color', 'Rating text']\n",
    "df[categorical_columns] = df[categorical_columns].astype('category')\n",
    "\n",
    "bool_columns = ['Has Table booking', 'Has Online delivery', 'Is delivering now', 'Switch to order menu']\n",
    "for col in bool_columns:\n",
    "    df[col] = df[col].map({'Yes': True, 'No': False})  \n",
    "    df[col] = df[col].astype(bool)"
   ]
  },
  {
   "cell_type": "code",
   "execution_count": null,
   "id": "580f3efb-52f8-4956-8354-aba76b8e00fc",
   "metadata": {},
   "outputs": [],
   "source": [
    "#Verify data types conversion\n",
    "print(df.dtypes)"
   ]
  },
  {
   "cell_type": "markdown",
   "id": "9dbffb23-bbf3-4f1f-81e2-060e29cf7be4",
   "metadata": {},
   "source": [
    "After performing data type conversion, certain columns were successfully converted to category type to optimize memory usage, and columns representing binary information were converted to boolean type for better data representation and analysis."
   ]
  },
  {
   "cell_type": "code",
   "execution_count": null,
   "id": "f2c4a98f-74ea-44a6-947b-06f5c121b755",
   "metadata": {},
   "outputs": [],
   "source": [
    "# Check for duplicate rows\n",
    "\n",
    "duplicate_rows = df.duplicated().sum()\n",
    "print(f\" Number of duplicate rows: {duplicate_rows}\")"
   ]
  },
  {
   "cell_type": "markdown",
   "id": "378185eb-806a-4337-a5ae-e689ac01a91b",
   "metadata": {},
   "source": [
    "The analysis revealed that there are zero duplicate rows in the dataset, indicating that all entries are unique."
   ]
  },
  {
   "cell_type": "markdown",
   "id": "b84e5a78-fbe9-43cb-8608-6ef9f089bf03",
   "metadata": {},
   "source": [
    "4. Analyze the distribution of the target variable (\"Aggregate rating\") and identify any class imbalances."
   ]
  },
  {
   "cell_type": "code",
   "execution_count": null,
   "id": "92699d60-b904-4e56-85c5-1b1788e437dd",
   "metadata": {},
   "outputs": [],
   "source": [
    "# target variable \"Aggregate rating\"\n",
    "\n",
    "target= \"Aggregate rating\"\n",
    "\n",
    "# Descriptive statistics\n",
    "print(df[target].describe())"
   ]
  },
  {
   "cell_type": "markdown",
   "id": "56539265-1fcb-4d11-a876-76475aa3a7e7",
   "metadata": {},
   "source": [
    "The summary statistics shows that the \"Aggregate Rating\" column has 9,542 entries. The mean rating is approximately 2.67, with a standard deviation of 1.52, suggesting variability in ratings. The minimum rating is 0.0, while the maximum rating reaches 4.9. The 25th percentile is 2.5, the median (50th percentile) is 3.2, and the 75th percentile is 3.7, showing that most ratings fall between 2.5 and 3.7."
   ]
  },
  {
   "cell_type": "code",
   "execution_count": null,
   "id": "073f1e96-00ac-4c26-bd64-560257aa2ee9",
   "metadata": {},
   "outputs": [],
   "source": [
    "# proportion of each rating\n",
    "rating_proportions = df['Aggregate rating'].value_counts(normalize=True) * 100\n",
    "print(rating_proportions.head())"
   ]
  },
  {
   "cell_type": "code",
   "execution_count": null,
   "id": "0f79e28f-d03c-4377-9e7c-f76d701c3189",
   "metadata": {},
   "outputs": [],
   "source": [
    "# Box plot for 'Aggregate Rating'\n",
    "\n",
    "plt.figure(figsize = (10,4))\n",
    "\n",
    "sns.boxplot(x = df[\"Aggregate rating\"])\n",
    "\n",
    "plt.xlabel(\"Box Plot\")\n",
    "plt.title(\"Aggregate Rating\")"
   ]
  },
  {
   "cell_type": "code",
   "execution_count": null,
   "id": "554b5242-9970-4c75-a9ef-f1ebb99d2dd4",
   "metadata": {},
   "outputs": [],
   "source": [
    "# Histogran plot for 'Aggregate Rating'\n",
    "\n",
    "plt.figure(figsize=(6, 4))\n",
    "\n",
    "sns.histplot(df['Aggregate rating'], bins=30, color = \"b\",kde=True)\n",
    "\n",
    "plt.title('Distribution of Aggregate Rating')\n",
    "plt.xlabel('Aggregate Rating')\n",
    "plt.ylabel('Frequency')\n",
    "plt.grid(alpha = 0.75)"
   ]
  },
  {
   "cell_type": "markdown",
   "id": "a3536e48-b8c7-4c6f-aeab-1f12cd111d30",
   "metadata": {},
   "source": [
    "Insights from the boxplot and histogram shows that ratings distribution is skewed, with most restaurants receiving ratings between 2.5 and 3.7, and a notable number of 0.0 ratings, indicating poor performance or missing data.\n",
    "\n",
    "The dataset shows highly imbalanced classes, particularly with a high frequency of 0.0 ratings."
   ]
  },
  {
   "cell_type": "markdown",
   "id": "67a6bb6f-e34e-4a49-acba-1307963e8d59",
   "metadata": {},
   "source": [
    "# Level 1: Task 2\n",
    "## Descriptive Analysis"
   ]
  },
  {
   "cell_type": "markdown",
   "id": "f2c5a900-a895-4a4a-a1f5-c65986cda6d3",
   "metadata": {},
   "source": [
    "1. Calculate basic statistical measures (mean,\n",
    "median, standard deviation, etc.) for numerica \r\n",
    "columns."
   ]
  },
  {
   "cell_type": "code",
   "execution_count": null,
   "id": "f5f0363f-85b2-4665-a09e-d43f519af5ae",
   "metadata": {},
   "outputs": [],
   "source": [
    "# Basic statistical measures\n",
    "\n",
    "df.describe()"
   ]
  },
  {
   "cell_type": "markdown",
   "id": "d37ba265-02da-4548-86e6-e542962f2000",
   "metadata": {},
   "source": [
    "2. Explore the distribution of categorical \n",
    "variables like \"Country Cod\n",
    ",\r\n",
    "\" \"C,,\r\n",
    "\r\n",
    " and\r\n",
    "\r\n",
    "\"Cs.ines.\r\n",
    "\""
   ]
  },
  {
   "cell_type": "code",
   "execution_count": null,
   "id": "069560a3-c5ba-49d8-9483-38d853a5675c",
   "metadata": {},
   "outputs": [],
   "source": [
    "# Country Codes by the count of restaurants (descending order)\n",
    "country_order = df['Country Code'].value_counts().index\n",
    "\n",
    "# Plot distribution for 'Country Code'\n",
    "\n",
    "plt.figure(figsize=(15, 6))\n",
    "\n",
    "sns.countplot(data=df, x='Country Code', palette='viridis', order=country_order)\n",
    "\n",
    "plt.title('Distribution by Country Code')\n",
    "plt.xticks(rotation=45)\n",
    "plt.show()"
   ]
  },
  {
   "cell_type": "markdown",
   "id": "09cf8390-bdd4-4846-8bd1-9dabc061852e",
   "metadata": {},
   "source": [
    "The distribution of restaurants by country code shows that Country Code 1 has the highest number of restaurants, followed by Country Code 216, while Country Code 37 has the fewest."
   ]
  },
  {
   "cell_type": "code",
   "execution_count": null,
   "id": "f61e2e8b-fff6-472a-91e5-4beadf842081",
   "metadata": {},
   "outputs": [],
   "source": [
    "# Plot distribution for top 10 cities\n",
    "\n",
    "plt.figure(figsize=(10, 5))\n",
    "\n",
    "sns.countplot(y='City', data=df, order=df['City'].value_counts().index[:10], palette='viridis')\n",
    "\n",
    "plt.title('Distribution of Top Ten Restuarants by City')\n",
    "plt.xlabel('Number of Restaurants')\n",
    "plt.ylabel('City')\n"
   ]
  },
  {
   "cell_type": "markdown",
   "id": "ddaadaca-e906-41ac-9aec-9da61c84dffc",
   "metadata": {},
   "source": [
    "Based on the distribution of restaurants by city, New Delhi has the highest number of restaurants, followed by Gurgaon."
   ]
  },
  {
   "cell_type": "code",
   "execution_count": null,
   "id": "8e90c4f0-aa68-4525-9bb9-c5849ee6fe20",
   "metadata": {},
   "outputs": [],
   "source": [
    "#  Plot distribution for Top 10 cuisines\n",
    "\n",
    "plt.figure(figsize=(10, 5))\n",
    "\n",
    "sns.countplot(y=\"Cuisines\", data=df, order=df['Cuisines'].value_counts().index[:10], palette='viridis')\n",
    "\n",
    "plt.title('Distribution of Top Ten Restuarants by Cuisine')\n",
    "plt.xlabel('Number of Restaurants')\n",
    "plt.ylabel('Cuisines')"
   ]
  },
  {
   "cell_type": "markdown",
   "id": "3c206af7-fbff-414a-89e7-7f7a1f304297",
   "metadata": {},
   "source": [
    "The distribution of cuisines indicates that North Indian and North Indian, Chinese have the highest number of restaurants."
   ]
  },
  {
   "cell_type": "markdown",
   "id": "edc378f5-8158-4c10-8c36-d10bb8540dd7",
   "metadata": {},
   "source": [
    "# Level 1 - Task 3\n",
    "## Geospatial Analysis\n"
   ]
  },
  {
   "cell_type": "markdown",
   "id": "2d4760bd-e9cb-4636-8542-a910201cf845",
   "metadata": {},
   "source": [
    "1. Visualize the locations of restaurants on a map using latitude and longitude information."
   ]
  },
  {
   "cell_type": "code",
   "execution_count": null,
   "id": "582b572c-9ff0-4fb0-9a62-c142b58fb2ac",
   "metadata": {},
   "outputs": [],
   "source": [
    "fig = px.scatter_geo(\n",
    "    df,\n",
    "    lat='Latitude',\n",
    "    lon='Longitude',\n",
    "    hover_name='Restaurant Name',\n",
    "    hover_data=['Aggregate rating', 'City'],\n",
    "    color='Aggregate rating',\n",
    "    color_continuous_scale=px.colors.cyclical.IceFire,\n",
    "    title='Restaurant Locations with Natural Earth Projection',\n",
    "    projection='natural earth'  \n",
    ")\n",
    "\n",
    "# layout properties\n",
    "fig.update_layout(\n",
    "    geo=dict(\n",
    "        showland=True,\n",
    "        landcolor='lightgray',\n",
    "        showocean=True,\n",
    "        oceancolor='lightblue',\n",
    "        showcountries=True,\n",
    "        countrycolor='black',\n",
    "    ),\n",
    "    legend_title_text='Aggregate Rating',\n",
    "    autosize=False,\n",
    "    width=1100,\n",
    "    height=600\n",
    ")"
   ]
  },
  {
   "cell_type": "markdown",
   "id": "2827d405-8bb7-4ee6-ac1f-ba9416dd59b6",
   "metadata": {},
   "source": [
    "The map highlights areas where restaurants are most densely located."
   ]
  },
  {
   "cell_type": "markdown",
   "id": "9cd23ff8-7d2f-41a4-b1f0-01848e224b9e",
   "metadata": {},
   "source": [
    "2. Analyze the distribution of restaurants across different cities or countries and check correlation with ratings."
   ]
  },
  {
   "cell_type": "code",
   "execution_count": null,
   "id": "b05f5b42-84b4-454e-bb69-a731d277560f",
   "metadata": {},
   "outputs": [],
   "source": [
    "plt.figure(figsize=(10, 5))\n",
    "\n",
    "sns.countplot(y='City', data=df, order=df['City'].value_counts().index[:10], palette='viridis')\n",
    "\n",
    "plt.title('Distribution of Top Ten Restuarants by City')\n",
    "plt.xlabel('Number of Restaurants')\n",
    "plt.ylabel('City')"
   ]
  },
  {
   "cell_type": "markdown",
   "id": "300c9198-06dd-4cdb-ae5d-c0462f65ad40",
   "metadata": {},
   "source": [
    "The top 10 cities with the highest number of restaurants, as displayed by the distribution graph, include cities with the most significant restaurant presence in the dataset. These cities, ranked by their restaurant count, highlight where the concentration of dining establishments is greatest, showing a focus on urban and popular areas. "
   ]
  },
  {
   "cell_type": "code",
   "execution_count": null,
   "id": "c89a2671-15d2-4241-a8cf-9ec27e34f555",
   "metadata": {},
   "outputs": [],
   "source": [
    "# Checking correlation between the restaurant's location and its rating\n",
    "\n",
    "plt.figure(figsize=(10, 5))\n",
    "\n",
    "# Calculate the correlation between latitude, longitude, and ratings\n",
    "correlation_matrix = df[['Latitude', 'Longitude', 'Aggregate rating']].corr()\n",
    "\n",
    "sns.heatmap(correlation_matrix, annot=True, cmap='coolwarm', fmt=\".4f\")\n",
    "\n",
    "plt.title(\"Correlation Between Restaurant's location and Rating\")\n"
   ]
  },
  {
   "cell_type": "markdown",
   "id": "efc5a64f-1f9b-42de-89f1-6851697b81a2",
   "metadata": {
    "jupyter": {
     "source_hidden": true
    }
   },
   "source": [
    "The correlation matrix shows that the relationship between longitude and aggregate rating is negatively weak, with a correlation coefficient of -0.1147. This suggests that as longitude changes, there is a slight tendency for ratings to decrease, but the relationship is not strong. On the other hand, the relationship between latitude and aggregate rating is negligible."
   ]
  },
  {
   "cell_type": "markdown",
   "id": "909f9f86-275d-4d2c-9228-0902b4dd47f8",
   "metadata": {},
   "source": [
    "# Conclusion:\n",
    "Based on the data exploration and preprocessing tasks conducted, it is evident that the dataset contains valuable information about restaurant ratings, locations, and cuisines. The \"Cuisines\" column had missing values, which were appropriately handled by dropping the affected rows to maintain data quality. The summary statistics revealed that the majority of restaurants had ratings between 2.5 and 3.7, with a few outliers, particularly the 0.0 ratings, which may indicate poor performance or missing data. A high concentration of restaurants is located in Country Code 1, with New Delhi and Gurgaon being the leading cities in terms of restaurant count. The most common cuisines are North Indian and North Indian Chinese. The correlation analysis showed a weak negative relationship between longitude and ratings, but latitude had no meaningful correlation with ratings."
   ]
  },
  {
   "cell_type": "markdown",
   "id": "803efbbd-e06f-416b-a84b-0e1cc9148433",
   "metadata": {},
   "source": [
    "## Recommendations:\n",
    "\n",
    "Address Rating Imbalance: Investigate and handle the 0.0 ratings more effectively, possibly by treating them as missing values or imputing them, to improve data quality and analysis accuracy.\n",
    "\n",
    "Location-Based Insights: Explore location-specific factors influencing restaurant ratings, particularly in high-density areas, to identify trends and opportunities for growth.\n",
    "\n",
    "Focus on Popular Cuisines: North Indian and North Indian Chinese cuisines dominate the dataset. New restaurants can consider these cuisines based on their popularity and customer demand.\n",
    "\n",
    "Review Rating System: Consider improving the rating system to address the skewed distribution, especially around low ratings, to ensure more accurate customer feedback.\n",
    "\n",
    "These recommendations aim to improve operational strategies and guide future decisions in restaurant management and marketing."
   ]
  },
  {
   "cell_type": "code",
   "execution_count": null,
   "id": "03e22b77-f570-4722-8136-e4ea171f1b62",
   "metadata": {},
   "outputs": [],
   "source": [
    "# Save the modified dataset to a new CSV file\n",
    "df.to_csv('C:/Users/JSP/Desktop/cleaned_dataset.csv', index=False)\n"
   ]
  }
 ],
 "metadata": {
  "kernelspec": {
   "display_name": "Python 3 (ipykernel)",
   "language": "python",
   "name": "python3"
  },
  "language_info": {
   "codemirror_mode": {
    "name": "ipython",
    "version": 3
   },
   "file_extension": ".py",
   "mimetype": "text/x-python",
   "name": "python",
   "nbconvert_exporter": "python",
   "pygments_lexer": "ipython3",
   "version": "3.12.4"
  }
 },
 "nbformat": 4,
 "nbformat_minor": 5
}
